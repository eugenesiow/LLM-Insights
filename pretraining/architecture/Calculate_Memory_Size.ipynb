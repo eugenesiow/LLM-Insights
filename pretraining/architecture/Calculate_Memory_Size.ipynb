{
  "nbformat": 4,
  "nbformat_minor": 0,
  "metadata": {
    "colab": {
      "provenance": []
    },
    "kernelspec": {
      "name": "python3",
      "display_name": "Python 3"
    },
    "language_info": {
      "name": "python"
    }
  },
  "cells": [
    {
      "cell_type": "code",
      "execution_count": 1,
      "metadata": {
        "id": "ifbyb38bgXCX"
      },
      "outputs": [],
      "source": [
        "import torch\n",
        "from accelerate import init_empty_weights\n",
        "from accelerate.utils import (\n",
        "    calculate_maximum_sizes,\n",
        "    convert_bytes\n",
        ")\n",
        "from accelerate.commands.estimate import check_has_model, create_empty_model\n",
        "import transformers\n",
        "from transformers import AutoConfig, AutoModel\n",
        "from prettytable import PrettyTable"
      ]
    },
    {
      "cell_type": "code",
      "source": [
        "from google.colab import userdata\n",
        "import os\n",
        "os.environ[\"HF_TOKEN\"] = userdata.get('HF_TOKEN')"
      ],
      "metadata": {
        "id": "_U-NRIPQkmRQ"
      },
      "execution_count": 19,
      "outputs": []
    },
    {
      "cell_type": "code",
      "source": [
        "def create_empty_model(model_name: str, trust_remote_code: bool = False):\n",
        "    auto_map = False\n",
        "    config = AutoConfig.from_pretrained(model_name, trust_remote_code=trust_remote_code)\n",
        "    print(config)\n",
        "\n",
        "    with init_empty_weights():\n",
        "        # remote code could specify a specific `AutoModel` class in the `auto_map`\n",
        "        constructor = AutoModel\n",
        "        if isinstance(auto_map, dict):\n",
        "            value = None\n",
        "            for key in auto_map.keys():\n",
        "                if key.startswith(\"AutoModelFor\"):\n",
        "                    value = key\n",
        "                    break\n",
        "            if value is not None:\n",
        "                constructor = getattr(transformers, value)\n",
        "        model = constructor.from_config(config, trust_remote_code=trust_remote_code)\n",
        "\n",
        "    return model"
      ],
      "metadata": {
        "id": "mVjvc3Ooitqw"
      },
      "execution_count": 23,
      "outputs": []
    },
    {
      "cell_type": "code",
      "source": [
        "def count_parameters(model):\n",
        "    table = PrettyTable([\"Modules\", \"Parameters\"])\n",
        "    total_params = 0\n",
        "    extra_params = 0\n",
        "    for name, parameter in model.named_parameters():\n",
        "        if not parameter.requires_grad:\n",
        "            continue\n",
        "        params = parameter.numel()\n",
        "        if 'embed_tokens' in name.lower():\n",
        "          extra_params += params\n",
        "        table.add_row([name, params])\n",
        "        total_params += params\n",
        "    print(table)\n",
        "    return total_params + extra_params"
      ],
      "metadata": {
        "id": "NwKNobiejUoY"
      },
      "execution_count": 24,
      "outputs": []
    },
    {
      "cell_type": "code",
      "source": [
        "def calc(model_name):\n",
        "    model = create_empty_model(model_name, trust_remote_code=False)\n",
        "    # print(model)\n",
        "    data_row = [None, None, None, None]\n",
        "    # memory_req = calculate_memory(model)\n",
        "    total_params = count_parameters(model)\n",
        "    print(f\"Total Trainable Params: {total_params}\")"
      ],
      "metadata": {
        "id": "KbqjGhIRi8wx"
      },
      "execution_count": 25,
      "outputs": []
    },
    {
      "cell_type": "code",
      "source": [
        "calc('meta-llama/Llama-3.1-8B')"
      ],
      "metadata": {
        "id": "8_wSIEYZjaP5"
      },
      "execution_count": null,
      "outputs": []
    },
    {
      "cell_type": "code",
      "source": [
        "calc('Qwen/Qwen2.5-7B')"
      ],
      "metadata": {
        "id": "3-Yv3IYWjg22"
      },
      "execution_count": null,
      "outputs": []
    }
  ]
}